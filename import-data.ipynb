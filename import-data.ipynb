{
 "cells": [
  {
   "cell_type": "code",
   "execution_count": 35,
   "id": "46c0ad65-046c-4510-8cc8-a9cd66666236",
   "metadata": {},
   "outputs": [],
   "source": [
    "import numpy as np\n",
    "import pandas as pd\n",
    "import os"
   ]
  },
  {
   "cell_type": "code",
   "execution_count": 36,
   "id": "10cae570-d603-42ec-bc94-df8663fbfe24",
   "metadata": {},
   "outputs": [],
   "source": [
    "data = dict()\n",
    "for qual in [\"good\", \"bad\"]:\n",
    "    loc = \"./data/raw-MS2/%s\" % qual\n",
    "    dfs = []\n",
    "    for item in os.listdir(loc):\n",
    "        try:\n",
    "            x = item.split(\"_\")[1:]\n",
    "            name, ce, io, precursor = x\n",
    "            io = io[0]\n",
    "            df = pd.read_csv(loc + \"/\" + item)\n",
    "            df[\"IO\"] = io\n",
    "            df[\"CE\"] = int(ce)\n",
    "            df[\"name\"] = name\n",
    "            df['precursor'] = float(precursor[:-4])\n",
    "            dfs += [df]\n",
    "            \n",
    "        except:\n",
    "            continue\n",
    "    data[qual] = pd.concat(dfs)"
   ]
  },
  {
   "cell_type": "code",
   "execution_count": 37,
   "id": "af0b0891-d0c7-455f-903f-6badf8e6bcbd",
   "metadata": {},
   "outputs": [],
   "source": [
    "data[\"bad\"].CE = data[\"bad\"].CE.astype(int)"
   ]
  },
  {
   "cell_type": "code",
   "execution_count": 38,
   "id": "4a5ae60b-9ec6-400d-9a51-8c6a5964089f",
   "metadata": {},
   "outputs": [
    {
     "data": {
      "text/plain": [
       "0     219.008606\n",
       "1     219.008606\n",
       "2     219.008606\n",
       "3     219.008606\n",
       "4     219.008606\n",
       "         ...    \n",
       "94    278.211487\n",
       "95    278.211487\n",
       "96    278.211487\n",
       "97    278.211487\n",
       "98    278.211487\n",
       "Name: precursor, Length: 51411, dtype: float64"
      ]
     },
     "execution_count": 38,
     "metadata": {},
     "output_type": "execute_result"
    }
   ],
   "source": [
    "data['good']['precursor']"
   ]
  },
  {
   "cell_type": "code",
   "execution_count": 39,
   "id": "dd5c99c3-34e7-49fa-b89f-ac84381ede20",
   "metadata": {},
   "outputs": [
    {
     "data": {
      "text/plain": [
       "MS2.mz           float64\n",
       "MS2.intensity    float64\n",
       "IO                object\n",
       "CE                 int32\n",
       "name              object\n",
       "precursor        float64\n",
       "dtype: object"
      ]
     },
     "execution_count": 39,
     "metadata": {},
     "output_type": "execute_result"
    }
   ],
   "source": [
    "data[\"bad\"].dtypes"
   ]
  },
  {
   "cell_type": "code",
   "execution_count": 41,
   "id": "4f84337e-a43f-4dc9-bea9-b8f5f631a111",
   "metadata": {},
   "outputs": [],
   "source": [
    "import pickle\n",
    "with open(\"hrms-data\", \"wb\") as f:\n",
    "    pickle.dump(data, f)"
   ]
  },
  {
   "cell_type": "code",
   "execution_count": 42,
   "id": "a60a3b25-0079-41b1-a99b-af4653ca0504",
   "metadata": {},
   "outputs": [
    {
     "data": {
      "text/plain": [
       "array(['Venlafaxine'], dtype=object)"
      ]
     },
     "execution_count": 42,
     "metadata": {},
     "output_type": "execute_result"
    }
   ],
   "source": [
    "df.name.unique()"
   ]
  },
  {
   "cell_type": "code",
   "execution_count": 43,
   "id": "3520aa2e-761b-443f-af68-377d7b7961b8",
   "metadata": {},
   "outputs": [
    {
     "data": {
      "text/plain": [
       "<AxesSubplot:xlabel='MS2.mz'>"
      ]
     },
     "execution_count": 43,
     "metadata": {},
     "output_type": "execute_result"
    },
    {
     "data": {
      "image/png": "[encoded data removed]",
      "text/plain": [
       "<Figure size 432x288 with 1 Axes>"
      ]
     },
     "metadata": {
      "needs_background": "light"
     },
     "output_type": "display_data"
    }
   ],
   "source": [
    "df = data[\"bad\"]\n",
    "subset = df[(df['name'] == \"Venlafaxine\")&(df[\"CE\"] == 50)]\n",
    "#subset[[\"coluamn\"]].plot.hist(bins=100)\n",
    "subset.plot(y=\"MS2.intensity\", x=\"MS2.mz\", style=\"-\")"
   ]
  },
  {
   "cell_type": "code",
   "execution_count": 44,
   "id": "65b0babf-db45-44b2-bf21-6aeae88e332b",
   "metadata": {},
   "outputs": [
    {
     "data": {
      "text/plain": [
       "count    38667.000000\n",
       "mean       139.952265\n",
       "std         75.676775\n",
       "min         50.001041\n",
       "25%         84.983730\n",
       "50%        127.053810\n",
       "75%        170.069405\n",
       "max        747.369751\n",
       "Name: MS2.mz, dtype: float64"
      ]
     },
     "execution_count": 44,
     "metadata": {},
     "output_type": "execute_result"
    }
   ],
   "source": [
    "data[\"bad\"]['MS2.mz'].describe()"
   ]
  },
  {
   "cell_type": "code",
   "execution_count": 45,
   "id": "be545db8-f92d-42ed-8e4f-47e66bb8f097",
   "metadata": {},
   "outputs": [
    {
     "data": {
      "text/plain": [
       "<AxesSubplot:>"
      ]
     },
     "execution_count": 45,
     "metadata": {},
     "output_type": "execute_result"
    },
    {
     "data": {
      "image/png": "[encoded data removed]",
      "text/plain": [
       "<Figure size 432x288 with 1 Axes>"
      ]
     },
     "metadata": {
      "needs_background": "light"
     },
     "output_type": "display_data"
    }
   ],
   "source": [
    "data[\"good\"]['MS2.mz'].hist(bins=100)"
   ]
  },
  {
   "cell_type": "code",
   "execution_count": null,
   "id": "a380e1bb-a416-4860-bca8-5b1474dcccda",
   "metadata": {},
   "outputs": [],
   "source": []
  }
 ],
 "metadata": {
  "kernelspec": {
   "display_name": "Python 3",
   "language": "python",
   "name": "python3"
  },
  "language_info": {
   "codemirror_mode": {
    "name": "ipython",
    "version": 3
   },
   "file_extension": ".py",
   "mimetype": "text/x-python",
   "name": "python",
   "nbconvert_exporter": "python",
   "pygments_lexer": "ipython3",
   "version": "3.8.8"
  }
 },
 "nbformat": 4,
 "nbformat_minor": 5
}
